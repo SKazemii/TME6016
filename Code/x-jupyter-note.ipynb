{
 "cells": [
  {
   "cell_type": "code",
   "execution_count": 1,
   "metadata": {},
   "outputs": [
    {
     "output_type": "stream",
     "name": "stdout",
     "text": [
      "[INFO] Setting directories\n[INFO] reading dataset....\n"
     ]
    }
   ],
   "source": [
    "import os\n",
    "import numpy as np\n",
    "import h5py\n",
    "import pandas as pd\n",
    "import config as cfg\n",
    "\n",
    "import pickle\n",
    "import matplotlib.pyplot as plt\n",
    "print(\"[INFO] reading dataset....\")\n",
    "with h5py.File(\"/Users/saeedkazemi/Documents/Python/EE6563/Dataset/project/Step Scan Dataset/[H5]/footpressures_align.h5\", \"r\") as hdf:\n",
    "    #barefoots = hdf.get(\"/barefoot/data\")[:]\n",
    "    metadata = hdf.get(\"/barefoot/metadata\")[:]"
   ]
  },
  {
   "cell_type": "code",
   "execution_count": 2,
   "metadata": {},
   "outputs": [
    {
     "output_type": "error",
     "ename": "AttributeError",
     "evalue": "'DataFrame' object has no attribute 'ahead'",
     "traceback": [
      "\u001b[0;31m---------------------------------------------------------------------------\u001b[0m",
      "\u001b[0;31mAttributeError\u001b[0m                            Traceback (most recent call last)",
      "\u001b[0;32m<ipython-input-2-3107a070bb51>\u001b[0m in \u001b[0;36m<module>\u001b[0;34m\u001b[0m\n\u001b[1;32m      4\u001b[0m \u001b[0ma\u001b[0m \u001b[0;34m=\u001b[0m \u001b[0mpd\u001b[0m\u001b[0;34m.\u001b[0m\u001b[0mDataFrame\u001b[0m\u001b[0;34m(\u001b[0m\u001b[0mmetadata\u001b[0m\u001b[0;34m[\u001b[0m\u001b[0;36m0\u001b[0m\u001b[0;34m:\u001b[0m\u001b[0;36m1744\u001b[0m\u001b[0;34m,\u001b[0m \u001b[0;36m0\u001b[0m\u001b[0;34m:\u001b[0m\u001b[0;36m8\u001b[0m\u001b[0;34m]\u001b[0m\u001b[0;34m,\u001b[0m \u001b[0mindex\u001b[0m\u001b[0;34m=\u001b[0m\u001b[0mindex\u001b[0m\u001b[0;34m,\u001b[0m \u001b[0mcolumns\u001b[0m\u001b[0;34m=\u001b[0m\u001b[0mcol\u001b[0m\u001b[0;34m)\u001b[0m\u001b[0;34m\u001b[0m\u001b[0;34m\u001b[0m\u001b[0m\n\u001b[1;32m      5\u001b[0m \u001b[0;34m\u001b[0m\u001b[0m\n\u001b[0;32m----> 6\u001b[0;31m \u001b[0mprint\u001b[0m\u001b[0;34m(\u001b[0m\u001b[0ma\u001b[0m\u001b[0;34m.\u001b[0m\u001b[0mahead\u001b[0m\u001b[0;34m(\u001b[0m\u001b[0;36m50\u001b[0m\u001b[0;34m)\u001b[0m\u001b[0;34m)\u001b[0m\u001b[0;34m\u001b[0m\u001b[0;34m\u001b[0m\u001b[0m\n\u001b[0m\u001b[1;32m      7\u001b[0m \u001b[0;31m# with open(\"/Users/saeedkazemi/Documents/Python/EE6563/Dataset/project/pickle/df_inter_stride.pickle\", \"wb\") as handle:\u001b[0m\u001b[0;34m\u001b[0m\u001b[0;34m\u001b[0m\u001b[0;34m\u001b[0m\u001b[0m\n\u001b[1;32m      8\u001b[0m \u001b[0;31m#    pickle.dump(df_inter_stride, handle)\u001b[0m\u001b[0;34m\u001b[0m\u001b[0;34m\u001b[0m\u001b[0;34m\u001b[0m\u001b[0m\n",
      "\u001b[0;32m~/opt/anaconda3/lib/python3.8/site-packages/pandas/core/generic.py\u001b[0m in \u001b[0;36m__getattr__\u001b[0;34m(self, name)\u001b[0m\n\u001b[1;32m   5272\u001b[0m             \u001b[0;32mif\u001b[0m \u001b[0mself\u001b[0m\u001b[0;34m.\u001b[0m\u001b[0m_info_axis\u001b[0m\u001b[0;34m.\u001b[0m\u001b[0m_can_hold_identifiers_and_holds_name\u001b[0m\u001b[0;34m(\u001b[0m\u001b[0mname\u001b[0m\u001b[0;34m)\u001b[0m\u001b[0;34m:\u001b[0m\u001b[0;34m\u001b[0m\u001b[0;34m\u001b[0m\u001b[0m\n\u001b[1;32m   5273\u001b[0m                 \u001b[0;32mreturn\u001b[0m \u001b[0mself\u001b[0m\u001b[0;34m[\u001b[0m\u001b[0mname\u001b[0m\u001b[0;34m]\u001b[0m\u001b[0;34m\u001b[0m\u001b[0;34m\u001b[0m\u001b[0m\n\u001b[0;32m-> 5274\u001b[0;31m             \u001b[0;32mreturn\u001b[0m \u001b[0mobject\u001b[0m\u001b[0;34m.\u001b[0m\u001b[0m__getattribute__\u001b[0m\u001b[0;34m(\u001b[0m\u001b[0mself\u001b[0m\u001b[0;34m,\u001b[0m \u001b[0mname\u001b[0m\u001b[0;34m)\u001b[0m\u001b[0;34m\u001b[0m\u001b[0;34m\u001b[0m\u001b[0m\n\u001b[0m\u001b[1;32m   5275\u001b[0m \u001b[0;34m\u001b[0m\u001b[0m\n\u001b[1;32m   5276\u001b[0m     \u001b[0;32mdef\u001b[0m \u001b[0m__setattr__\u001b[0m\u001b[0;34m(\u001b[0m\u001b[0mself\u001b[0m\u001b[0;34m,\u001b[0m \u001b[0mname\u001b[0m\u001b[0;34m:\u001b[0m \u001b[0mstr\u001b[0m\u001b[0;34m,\u001b[0m \u001b[0mvalue\u001b[0m\u001b[0;34m)\u001b[0m \u001b[0;34m->\u001b[0m \u001b[0;32mNone\u001b[0m\u001b[0;34m:\u001b[0m\u001b[0;34m\u001b[0m\u001b[0;34m\u001b[0m\u001b[0m\n",
      "\u001b[0;31mAttributeError\u001b[0m: 'DataFrame' object has no attribute 'ahead'"
     ]
    }
   ],
   "source": [
    "index = [\"Sample_\" + str(i) for i in np.arange(1744)]\n",
    "col = [ str(i) for i in np.arange(8)]\n",
    "\n",
    "a = pd.DataFrame(metadata[0:1744, 0:8], index=index, columns=col)\n",
    "\n",
    "print(a.ahead(50))\n",
    "# with open(\"/Users/saeedkazemi/Documents/Python/EE6563/Dataset/project/pickle/df_inter_stride.pickle\", \"wb\") as handle:\n",
    "#    pickle.dump(df_inter_stride, handle)\n",
    "\n",
    "# with open(\"/Users/saeedkazemi/Documents/Python/EE6563/Dataset/project/pickle/df_inter_stride.txt\", \"w\") as handle:\n",
    "#     handle.write(df_inter_stride.to_string())\n"
   ]
  },
  {
   "cell_type": "code",
   "execution_count": 146,
   "metadata": {
    "tags": []
   },
   "outputs": [
    {
     "output_type": "stream",
     "name": "stdout",
     "text": [
      "Sample_0     144.533737\nSample_1     142.425415\nSample_2     143.013992\nSample_3     151.558563\nSample_4     151.558563\nSample_5     137.320786\nSample_6     151.907867\nSample_7     141.795624\nSample_8     143.349228\nSample_9     143.349228\nSample_10    145.674301\nSample_11    138.177429\nSample_12    147.105408\nSample_13    144.003479\nSample_14    144.003479\nSample_15    137.873123\nSample_16    146.154022\nSample_17    143.610580\nSample_18    148.222809\nSample_19    148.222809\nSample_20    123.822456\nSample_21    133.296661\nSample_22    123.470642\nSample_23    130.862518\nSample_24    118.726578\nSample_25    118.726578\nSample_26    135.003708\nSample_27    117.477661\nSample_28    130.736374\nSample_29    114.947815\nSample_30    130.587143\nSample_31    112.329872\nSample_32    112.329872\nSample_33    119.854080\nSample_34    127.011810\nSample_35    112.680969\nSample_36    127.424484\nSample_37    112.071404\nSample_38    124.020157\nSample_39    124.020157\nSample_40    120.066650\nSample_41    110.679718\nSample_42    125.031998\nSample_43    115.247559\nSample_44    122.576508\nSample_45    122.576508\nSample_46    122.983742\nSample_47    124.426682\nSample_48    123.975807\nSample_49    130.613937\nName: 2, dtype: float32\n"
     ]
    }
   ],
   "source": [
    "import math\n",
    "index = [\"Sample_\" + str(i) for i in np.arange(1744)]\n",
    "w = pd.DataFrame(np.zeros([1744, 2]), index=index, columns=[\"ID\", \"distance\"])\n",
    "subjects = set(a[\"0\"])\n",
    "\n",
    "for subject in subjects:\n",
    "    b=a[ a[\"0\"] == subject ] \n",
    "    steps = set(b[\"4\"])\n",
    "    # print(b)\n",
    "\n",
    "\n",
    "    diss=list()\n",
    "    for step in range(b.shape[0]-1):\n",
    "        c=b.iloc[:,4:8].values\n",
    "        aa=step+1\n",
    "        if c[step,1]==c[step+1,1]:\n",
    "            x=c[step,2]-c[step+1,2]\n",
    "            y=c[step,3]-c[step+1,3]\n",
    "            a.loc[(a[\"4\"]==step) & (a[\"0\"]==subject),\"2\"] = math.sqrt(x**2+y**2)\n",
    "        else:\n",
    "            a.loc[(a[\"4\"]==step) & (a[\"0\"]==subject),\"2\"] = a.loc[(a[\"4\"]==step-1) & (a[\"0\"]==subject),\"2\"].values\n",
    "    a.loc[(a[\"4\"]==step+1) & (a[\"0\"]==subject),\"2\"] = a.loc[(a[\"4\"]==step) & (a[\"0\"]==subject),\"2\"].values\n",
    "    #diss.append(diss[-1])\n",
    "\n",
    "\n",
    "print(a[\"2\"].head(50)) \n",
    "    # 1/0 \n",
    "    \n"
   ]
  },
  {
   "cell_type": "code",
   "execution_count": 147,
   "metadata": {},
   "outputs": [],
   "source": [
    "with open(\"/Users/saeedkazemi/Documents/Python/EE6563/Dataset/project/pickle/df_inter_stride.pickle\", \"wb\") as handle:\n",
    "   pickle.dump(a[\"2\"], handle)\n",
    "\n",
    "with open(\"/Users/saeedkazemi/Documents/Python/EE6563/Dataset/project/pickle/df_inter_stride.txt\", \"w\") as handle:\n",
    "    handle.write(a[\"2\"].to_string())"
   ]
  },
  {
   "cell_type": "code",
   "execution_count": null,
   "metadata": {},
   "outputs": [],
   "source": []
  }
 ],
 "metadata": {
  "kernelspec": {
   "display_name": "Python 3",
   "language": "python",
   "name": "python3"
  },
  "language_info": {
   "codemirror_mode": {
    "name": "ipython",
    "version": 3
   },
   "file_extension": ".py",
   "mimetype": "text/x-python",
   "name": "python",
   "nbconvert_exporter": "python",
   "pygments_lexer": "ipython3",
   "version": "3.8.3-final"
  }
 },
 "nbformat": 4,
 "nbformat_minor": 2
}